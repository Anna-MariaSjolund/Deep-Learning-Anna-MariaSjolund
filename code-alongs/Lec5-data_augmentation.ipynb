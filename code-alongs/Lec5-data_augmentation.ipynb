{
 "cells": [
  {
   "cell_type": "markdown",
   "metadata": {},
   "source": [
    "# Data Augmentation\n",
    "\n",
    "- Artificiellt skapar mer bilder, när vi har lite data\n",
    "- Slumpmässigt roterar till en viss grad (radianer)\n",
    "- Slumpämssigt translatera\n",
    "- Slumpmässigt flippa horisontellt, vertikalt (spegla)\n",
    "- shear / skjuvning\n",
    "- ..."
   ]
  },
  {
   "cell_type": "code",
   "execution_count": 1,
   "metadata": {},
   "outputs": [],
   "source": [
    "import numpy as np\n",
    "import pandas as pd\n",
    "import seaborn as sns\n",
    "import matplotlib.pyplot as plt\n",
    "\n",
    "from tensorflow.keras.datasets.mnist import load_data\n",
    "\n"
   ]
  },
  {
   "cell_type": "code",
   "execution_count": 2,
   "metadata": {},
   "outputs": [],
   "source": [
    "(X_train, y_train), (X_test, y_test) = load_data()"
   ]
  },
  {
   "cell_type": "code",
   "execution_count": 21,
   "metadata": {},
   "outputs": [],
   "source": [
    "def plot_samples(data, nrows=2, ncols=5, figsize=(12, 4)):\n",
    "    \n",
    "    fig, axes = plt.subplots(nrows, ncols, figsize = figsize)\n",
    "\n",
    "    for i, ax in enumerate(axes.flatten()):\n",
    "        ax.imshow(data[i,:,:], cmap=\"gray\") #0-9 and all rows and columns\n",
    "        ax.axis(\"off\")\n",
    "\n",
    "    fig.subplots_adjust(wspace=0, hspace=.1, bottom=0)"
   ]
  },
  {
   "cell_type": "code",
   "execution_count": 3,
   "metadata": {},
   "outputs": [
    {
     "data": {
      "text/plain": [
       "(0.0, 1.0)"
      ]
     },
     "execution_count": 3,
     "metadata": {},
     "output_type": "execute_result"
    }
   ],
   "source": [
    "X_train = X_train.astype(\"float32\")/255\n",
    "X_test = X_test.astype(\"float32\")/255\n",
    "X_test.min(), X_test.max()"
   ]
  },
  {
   "cell_type": "markdown",
   "metadata": {},
   "source": [
    "### Train | val | test split"
   ]
  },
  {
   "cell_type": "code",
   "execution_count": 13,
   "metadata": {},
   "outputs": [
    {
     "data": {
      "text/plain": [
       "((50000, 28, 28, 1), (10000, 28, 28, 1), (50000,), (10000,))"
      ]
     },
     "execution_count": 13,
     "metadata": {},
     "output_type": "execute_result"
    }
   ],
   "source": [
    "from sklearn.model_selection import train_test_split\n",
    "\n",
    "X_train_val, X_val, y_train_val, y_val = train_test_split(\n",
    "    X_train, y_train, test_size=1/6, random_state = 42)\n",
    "\n",
    "X_train_val = X_train_val[:,:,:,None]\n",
    "X_train = X_train[:,:,:,None]\n",
    "X_val = X_val[:,:,:,None]\n",
    "X_test = X_test[:,:,:,None]\n",
    "\n",
    "X_train_val.shape, X_val.shape, y_train_val.shape, y_val.shape"
   ]
  },
  {
   "cell_type": "code",
   "execution_count": 25,
   "metadata": {},
   "outputs": [
    {
     "data": {
      "text/plain": [
       "(<keras.preprocessing.image.NumpyArrayIterator at 0x149b981f0>,\n",
       " <keras.preprocessing.image.NumpyArrayIterator at 0x149c9b550>)"
      ]
     },
     "execution_count": 25,
     "metadata": {},
     "output_type": "execute_result"
    }
   ],
   "source": [
    "from tensorflow.keras.preprocessing.image import ImageDataGenerator\n",
    "\n",
    "train_image_generator = ImageDataGenerator(\n",
    "                        rotation_range=10,\n",
    "                        shear_range=.2,\n",
    "                        zoom_range=.1,\n",
    "                        horizontal_flip=False, \n",
    "                        height_shift_range=.2, \n",
    "                        width_shift_range=.2\n",
    "                        )\n",
    "\n",
    "# Don't augment validation and test data\n",
    "test_image_generator = ImageDataGenerator()\n",
    "\n",
    "train_val_generator = train_image_generator.flow(X_train_val, y_train_val, batch_size=32)\n",
    "\n",
    "val_generator = test_image_generator.flow(X_val, y_val, batch_size=32)\n",
    "\n",
    "train_val_generator, val_generator"
   ]
  },
  {
   "cell_type": "code",
   "execution_count": 27,
   "metadata": {},
   "outputs": [
    {
     "name": "stdout",
     "output_type": "stream",
     "text": [
      "2\n",
      "(32, 28, 28, 1)\n"
     ]
    },
    {
     "data": {
      "text/plain": [
       "array([8, 6, 3, 2, 5, 7, 6, 3, 3, 7, 6, 4, 1, 4, 4, 1, 1, 5, 8, 9, 3, 4,\n",
       "       5, 6, 7, 3, 8, 9, 4, 7, 4, 9], dtype=uint8)"
      ]
     },
     "execution_count": 27,
     "metadata": {},
     "output_type": "execute_result"
    },
    {
     "data": {
      "image/png": "[encoded data removed]",
      "text/plain": [
       "<Figure size 864x288 with 10 Axes>"
      ]
     },
     "metadata": {
      "needs_background": "light"
     },
     "output_type": "display_data"
    }
   ],
   "source": [
    "print(len(train_val_generator.next())) #next is an iterator object, .next brings us to the next batch\n",
    "\n",
    "sample_batch = train_val_generator.next() #32 samples with 28*28 pixels in our first batch\n",
    "print(sample_batch[0].shape)\n",
    "\n",
    "plot_samples(sample_batch[0])\n",
    "sample_batch[1]"
   ]
  },
  {
   "cell_type": "markdown",
   "metadata": {},
   "source": [
    "### CNN Model"
   ]
  },
  {
   "cell_type": "code",
   "execution_count": 28,
   "metadata": {},
   "outputs": [
    {
     "name": "stderr",
     "output_type": "stream",
     "text": [
      "2022-04-28 10:05:41.631239: I tensorflow/core/platform/cpu_feature_guard.cc:151] This TensorFlow binary is optimized with oneAPI Deep Neural Network Library (oneDNN) to use the following CPU instructions in performance-critical operations:  AVX2 FMA\n",
      "To enable them in other operations, rebuild TensorFlow with the appropriate compiler flags.\n"
     ]
    },
    {
     "name": "stdout",
     "output_type": "stream",
     "text": [
      "Model: \"CNN_model\"\n",
      "_________________________________________________________________\n",
      " Layer (type)                Output Shape              Param #   \n",
      "=================================================================\n",
      " conv2d (Conv2D)             (None, 26, 26, 32)        320       \n",
      "                                                                 \n",
      " max_pooling2d (MaxPooling2D  (None, 13, 13, 32)       0         \n",
      " )                                                               \n",
      "                                                                 \n",
      " conv2d_1 (Conv2D)           (None, 11, 11, 32)        9248      \n",
      "                                                                 \n",
      " max_pooling2d_1 (MaxPooling  (None, 5, 5, 32)         0         \n",
      " 2D)                                                             \n",
      "                                                                 \n",
      " flatten (Flatten)           (None, 800)               0         \n",
      "                                                                 \n",
      " dropout (Dropout)           (None, 800)               0         \n",
      "                                                                 \n",
      " dense (Dense)               (None, 256)               205056    \n",
      "                                                                 \n",
      " dense_1 (Dense)             (None, 10)                2570      \n",
      "                                                                 \n",
      "=================================================================\n",
      "Total params: 217,194\n",
      "Trainable params: 217,194\n",
      "Non-trainable params: 0\n",
      "_________________________________________________________________\n"
     ]
    }
   ],
   "source": [
    "from tensorflow.keras.models import Sequential\n",
    "from tensorflow.keras.layers import Dense, Conv2D, Flatten, Dropout, MaxPooling2D\n",
    "from tensorflow.keras.optimizers import Adam\n",
    "\n",
    "def CNN_model(learning_rate=.001, drop_rate=.5, kernels=[32, 32]):\n",
    "    adam = Adam(learning_rate = learning_rate)\n",
    "\n",
    "    model = Sequential(name=\"CNN_model\")\n",
    "\n",
    "    # The convolutional layers\n",
    "    for number_kernel in kernels:\n",
    "        conv_layer = Conv2D(number_kernel, \n",
    "                            kernel_size=(3, 3), \n",
    "                            activation=\"relu\", \n",
    "                            kernel_initializer=\"he_normal\", \n",
    "                            input_shape=X_train.shape[1:])\n",
    "        \n",
    "        model.add(conv_layer)\n",
    "        model.add(MaxPooling2D(pool_size=(2, 2), strides=2))\n",
    "    \n",
    "    # MLP layers\n",
    "    model.add(Flatten())\n",
    "    model.add(Dropout(drop_rate))\n",
    "    model.add(Dense(256, activation=\"relu\", kernel_initializer=\"he_normal\"))\n",
    "    model.add(Dense(10, activation=\"softmax\"))\n",
    "\n",
    "    model.compile(loss=\"sparse_categorical_crossentropy\", optimizer=adam, metrics=[\"acc\"])\n",
    "\n",
    "    return model\n",
    "\n",
    "model = CNN_model(drop_rate=.5)\n",
    "model.summary()    "
   ]
  }
 ],
 "metadata": {
  "interpreter": {
   "hash": "c8622f42dd2024023add1dc3af682913d650e689fa358b3965b6044288c201ea"
  },
  "kernelspec": {
   "display_name": "Python 3.9.10 ('Deep-Learning-Anna-MariaSjolund-0DMhVJHL')",
   "language": "python",
   "name": "python3"
  },
  "language_info": {
   "codemirror_mode": {
    "name": "ipython",
    "version": 3
   },
   "file_extension": ".py",
   "mimetype": "text/x-python",
   "name": "python",
   "nbconvert_exporter": "python",
   "pygments_lexer": "ipython3",
   "version": "3.9.10"
  },
  "orig_nbformat": 4
 },
 "nbformat": 4,
 "nbformat_minor": 2
}
