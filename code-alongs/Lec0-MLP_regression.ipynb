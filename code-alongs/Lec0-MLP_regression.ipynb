{
 "cells": [
  {
   "cell_type": "markdown",
   "metadata": {},
   "source": [
    "# MLP Regression"
   ]
  },
  {
   "cell_type": "code",
   "execution_count": 2,
   "metadata": {},
   "outputs": [],
   "source": [
    "import pandas as pd\n",
    "import numpy as np\n",
    "import matplotlib as plt\n",
    "import seaborn as sns\n",
    "import tensorflow"
   ]
  },
  {
   "cell_type": "code",
   "execution_count": 4,
   "metadata": {},
   "outputs": [
    {
     "data": {
      "text/html": [
       "<div>\n",
       "<style scoped>\n",
       "    .dataframe tbody tr th:only-of-type {\n",
       "        vertical-align: middle;\n",
       "    }\n",
       "\n",
       "    .dataframe tbody tr th {\n",
       "        vertical-align: top;\n",
       "    }\n",
       "\n",
       "    .dataframe thead th {\n",
       "        text-align: right;\n",
       "    }\n",
       "</style>\n",
       "<table border=\"1\" class=\"dataframe\">\n",
       "  <thead>\n",
       "    <tr style=\"text-align: right;\">\n",
       "      <th></th>\n",
       "      <th>mpg</th>\n",
       "      <th>cylinders</th>\n",
       "      <th>displacement</th>\n",
       "      <th>horsepower</th>\n",
       "      <th>weight</th>\n",
       "      <th>acceleration</th>\n",
       "      <th>model_year</th>\n",
       "      <th>origin</th>\n",
       "    </tr>\n",
       "  </thead>\n",
       "  <tbody>\n",
       "    <tr>\n",
       "      <th>0</th>\n",
       "      <td>18.0</td>\n",
       "      <td>8</td>\n",
       "      <td>307.0</td>\n",
       "      <td>130.0</td>\n",
       "      <td>3504</td>\n",
       "      <td>12.0</td>\n",
       "      <td>70</td>\n",
       "      <td>usa</td>\n",
       "    </tr>\n",
       "    <tr>\n",
       "      <th>1</th>\n",
       "      <td>15.0</td>\n",
       "      <td>8</td>\n",
       "      <td>350.0</td>\n",
       "      <td>165.0</td>\n",
       "      <td>3693</td>\n",
       "      <td>11.5</td>\n",
       "      <td>70</td>\n",
       "      <td>usa</td>\n",
       "    </tr>\n",
       "    <tr>\n",
       "      <th>2</th>\n",
       "      <td>18.0</td>\n",
       "      <td>8</td>\n",
       "      <td>318.0</td>\n",
       "      <td>150.0</td>\n",
       "      <td>3436</td>\n",
       "      <td>11.0</td>\n",
       "      <td>70</td>\n",
       "      <td>usa</td>\n",
       "    </tr>\n",
       "    <tr>\n",
       "      <th>3</th>\n",
       "      <td>16.0</td>\n",
       "      <td>8</td>\n",
       "      <td>304.0</td>\n",
       "      <td>150.0</td>\n",
       "      <td>3433</td>\n",
       "      <td>12.0</td>\n",
       "      <td>70</td>\n",
       "      <td>usa</td>\n",
       "    </tr>\n",
       "    <tr>\n",
       "      <th>4</th>\n",
       "      <td>17.0</td>\n",
       "      <td>8</td>\n",
       "      <td>302.0</td>\n",
       "      <td>140.0</td>\n",
       "      <td>3449</td>\n",
       "      <td>10.5</td>\n",
       "      <td>70</td>\n",
       "      <td>usa</td>\n",
       "    </tr>\n",
       "  </tbody>\n",
       "</table>\n",
       "</div>"
      ],
      "text/plain": [
       "    mpg  cylinders  displacement  horsepower  weight  acceleration  \\\n",
       "0  18.0          8         307.0       130.0    3504          12.0   \n",
       "1  15.0          8         350.0       165.0    3693          11.5   \n",
       "2  18.0          8         318.0       150.0    3436          11.0   \n",
       "3  16.0          8         304.0       150.0    3433          12.0   \n",
       "4  17.0          8         302.0       140.0    3449          10.5   \n",
       "\n",
       "   model_year origin  \n",
       "0          70    usa  \n",
       "1          70    usa  \n",
       "2          70    usa  \n",
       "3          70    usa  \n",
       "4          70    usa  "
      ]
     },
     "execution_count": 4,
     "metadata": {},
     "output_type": "execute_result"
    }
   ],
   "source": [
    "df = sns.load_dataset(\"mpg\").drop(\"name\", axis = 1)\n",
    "df.head()"
   ]
  },
  {
   "cell_type": "code",
   "execution_count": 5,
   "metadata": {},
   "outputs": [
    {
     "data": {
      "text/plain": [
       "count     398\n",
       "unique      3\n",
       "top       usa\n",
       "freq      249\n",
       "Name: origin, dtype: object"
      ]
     },
     "execution_count": 5,
     "metadata": {},
     "output_type": "execute_result"
    }
   ],
   "source": [
    "df[\"origin\"].describe()"
   ]
  },
  {
   "cell_type": "code",
   "execution_count": 6,
   "metadata": {},
   "outputs": [
    {
     "name": "stdout",
     "output_type": "stream",
     "text": [
      "<class 'pandas.core.frame.DataFrame'>\n",
      "RangeIndex: 398 entries, 0 to 397\n",
      "Data columns (total 8 columns):\n",
      " #   Column        Non-Null Count  Dtype  \n",
      "---  ------        --------------  -----  \n",
      " 0   mpg           398 non-null    float64\n",
      " 1   cylinders     398 non-null    int64  \n",
      " 2   displacement  398 non-null    float64\n",
      " 3   horsepower    392 non-null    float64\n",
      " 4   weight        398 non-null    int64  \n",
      " 5   acceleration  398 non-null    float64\n",
      " 6   model_year    398 non-null    int64  \n",
      " 7   origin        398 non-null    object \n",
      "dtypes: float64(4), int64(3), object(1)\n",
      "memory usage: 25.0+ KB\n"
     ]
    }
   ],
   "source": [
    "df.info()"
   ]
  },
  {
   "cell_type": "code",
   "execution_count": 8,
   "metadata": {},
   "outputs": [
    {
     "data": {
      "text/html": [
       "<div>\n",
       "<style scoped>\n",
       "    .dataframe tbody tr th:only-of-type {\n",
       "        vertical-align: middle;\n",
       "    }\n",
       "\n",
       "    .dataframe tbody tr th {\n",
       "        vertical-align: top;\n",
       "    }\n",
       "\n",
       "    .dataframe thead th {\n",
       "        text-align: right;\n",
       "    }\n",
       "</style>\n",
       "<table border=\"1\" class=\"dataframe\">\n",
       "  <thead>\n",
       "    <tr style=\"text-align: right;\">\n",
       "      <th></th>\n",
       "      <th>mpg</th>\n",
       "      <th>cylinders</th>\n",
       "      <th>displacement</th>\n",
       "      <th>horsepower</th>\n",
       "      <th>weight</th>\n",
       "      <th>acceleration</th>\n",
       "      <th>model_year</th>\n",
       "      <th>origin</th>\n",
       "    </tr>\n",
       "  </thead>\n",
       "  <tbody>\n",
       "    <tr>\n",
       "      <th>32</th>\n",
       "      <td>25.0</td>\n",
       "      <td>4</td>\n",
       "      <td>98.0</td>\n",
       "      <td>NaN</td>\n",
       "      <td>2046</td>\n",
       "      <td>19.0</td>\n",
       "      <td>71</td>\n",
       "      <td>usa</td>\n",
       "    </tr>\n",
       "    <tr>\n",
       "      <th>126</th>\n",
       "      <td>21.0</td>\n",
       "      <td>6</td>\n",
       "      <td>200.0</td>\n",
       "      <td>NaN</td>\n",
       "      <td>2875</td>\n",
       "      <td>17.0</td>\n",
       "      <td>74</td>\n",
       "      <td>usa</td>\n",
       "    </tr>\n",
       "    <tr>\n",
       "      <th>330</th>\n",
       "      <td>40.9</td>\n",
       "      <td>4</td>\n",
       "      <td>85.0</td>\n",
       "      <td>NaN</td>\n",
       "      <td>1835</td>\n",
       "      <td>17.3</td>\n",
       "      <td>80</td>\n",
       "      <td>europe</td>\n",
       "    </tr>\n",
       "    <tr>\n",
       "      <th>336</th>\n",
       "      <td>23.6</td>\n",
       "      <td>4</td>\n",
       "      <td>140.0</td>\n",
       "      <td>NaN</td>\n",
       "      <td>2905</td>\n",
       "      <td>14.3</td>\n",
       "      <td>80</td>\n",
       "      <td>usa</td>\n",
       "    </tr>\n",
       "    <tr>\n",
       "      <th>354</th>\n",
       "      <td>34.5</td>\n",
       "      <td>4</td>\n",
       "      <td>100.0</td>\n",
       "      <td>NaN</td>\n",
       "      <td>2320</td>\n",
       "      <td>15.8</td>\n",
       "      <td>81</td>\n",
       "      <td>europe</td>\n",
       "    </tr>\n",
       "    <tr>\n",
       "      <th>374</th>\n",
       "      <td>23.0</td>\n",
       "      <td>4</td>\n",
       "      <td>151.0</td>\n",
       "      <td>NaN</td>\n",
       "      <td>3035</td>\n",
       "      <td>20.5</td>\n",
       "      <td>82</td>\n",
       "      <td>usa</td>\n",
       "    </tr>\n",
       "  </tbody>\n",
       "</table>\n",
       "</div>"
      ],
      "text/plain": [
       "      mpg  cylinders  displacement  horsepower  weight  acceleration  \\\n",
       "32   25.0          4          98.0         NaN    2046          19.0   \n",
       "126  21.0          6         200.0         NaN    2875          17.0   \n",
       "330  40.9          4          85.0         NaN    1835          17.3   \n",
       "336  23.6          4         140.0         NaN    2905          14.3   \n",
       "354  34.5          4         100.0         NaN    2320          15.8   \n",
       "374  23.0          4         151.0         NaN    3035          20.5   \n",
       "\n",
       "     model_year  origin  \n",
       "32           71     usa  \n",
       "126          74     usa  \n",
       "330          80  europe  \n",
       "336          80     usa  \n",
       "354          81  europe  \n",
       "374          82     usa  "
      ]
     },
     "execution_count": 8,
     "metadata": {},
     "output_type": "execute_result"
    }
   ],
   "source": [
    "df.query(\"horsepower.isna()\")\n",
    "\n",
    "# impute the values, we could use regression to impute"
   ]
  },
  {
   "cell_type": "code",
   "execution_count": 9,
   "metadata": {},
   "outputs": [
    {
     "name": "stdout",
     "output_type": "stream",
     "text": [
      "<class 'pandas.core.frame.DataFrame'>\n",
      "Int64Index: 392 entries, 0 to 397\n",
      "Data columns (total 8 columns):\n",
      " #   Column        Non-Null Count  Dtype  \n",
      "---  ------        --------------  -----  \n",
      " 0   mpg           392 non-null    float64\n",
      " 1   cylinders     392 non-null    int64  \n",
      " 2   displacement  392 non-null    float64\n",
      " 3   horsepower    392 non-null    float64\n",
      " 4   weight        392 non-null    int64  \n",
      " 5   acceleration  392 non-null    float64\n",
      " 6   model_year    392 non-null    int64  \n",
      " 7   origin        392 non-null    object \n",
      "dtypes: float64(4), int64(3), object(1)\n",
      "memory usage: 27.6+ KB\n"
     ]
    }
   ],
   "source": [
    "df.dropna(axis = 0, inplace = True)\n",
    "df.info()"
   ]
  },
  {
   "cell_type": "code",
   "execution_count": 14,
   "metadata": {},
   "outputs": [
    {
     "data": {
      "text/plain": [
       "<AxesSubplot:title={'center':'Model Year'}>"
      ]
     },
     "execution_count": 14,
     "metadata": {},
     "output_type": "execute_result"
    },
    {
     "data": {
      "image/png": "[encoded data removed]",
      "text/plain": [
       "<Figure size 432x288 with 1 Axes>"
      ]
     },
     "metadata": {
      "needs_background": "light"
     },
     "output_type": "display_data"
    }
   ],
   "source": [
    "df[\"model_year\"].value_counts().sort_index().plot(kind = \"bar\", title=\"Model Year\")"
   ]
  },
  {
   "cell_type": "code",
   "execution_count": 15,
   "metadata": {},
   "outputs": [
    {
     "data": {
      "text/html": [
       "<div>\n",
       "<style scoped>\n",
       "    .dataframe tbody tr th:only-of-type {\n",
       "        vertical-align: middle;\n",
       "    }\n",
       "\n",
       "    .dataframe tbody tr th {\n",
       "        vertical-align: top;\n",
       "    }\n",
       "\n",
       "    .dataframe thead th {\n",
       "        text-align: right;\n",
       "    }\n",
       "</style>\n",
       "<table border=\"1\" class=\"dataframe\">\n",
       "  <thead>\n",
       "    <tr style=\"text-align: right;\">\n",
       "      <th></th>\n",
       "      <th>mpg</th>\n",
       "      <th>cylinders</th>\n",
       "      <th>displacement</th>\n",
       "      <th>horsepower</th>\n",
       "      <th>weight</th>\n",
       "      <th>acceleration</th>\n",
       "      <th>model_year</th>\n",
       "      <th>origin</th>\n",
       "    </tr>\n",
       "  </thead>\n",
       "  <tbody>\n",
       "    <tr>\n",
       "      <th>0</th>\n",
       "      <td>18.0</td>\n",
       "      <td>8</td>\n",
       "      <td>307.0</td>\n",
       "      <td>130.0</td>\n",
       "      <td>3504</td>\n",
       "      <td>12.0</td>\n",
       "      <td>(69, 73]</td>\n",
       "      <td>usa</td>\n",
       "    </tr>\n",
       "    <tr>\n",
       "      <th>1</th>\n",
       "      <td>15.0</td>\n",
       "      <td>8</td>\n",
       "      <td>350.0</td>\n",
       "      <td>165.0</td>\n",
       "      <td>3693</td>\n",
       "      <td>11.5</td>\n",
       "      <td>(69, 73]</td>\n",
       "      <td>usa</td>\n",
       "    </tr>\n",
       "    <tr>\n",
       "      <th>2</th>\n",
       "      <td>18.0</td>\n",
       "      <td>8</td>\n",
       "      <td>318.0</td>\n",
       "      <td>150.0</td>\n",
       "      <td>3436</td>\n",
       "      <td>11.0</td>\n",
       "      <td>(69, 73]</td>\n",
       "      <td>usa</td>\n",
       "    </tr>\n",
       "    <tr>\n",
       "      <th>3</th>\n",
       "      <td>16.0</td>\n",
       "      <td>8</td>\n",
       "      <td>304.0</td>\n",
       "      <td>150.0</td>\n",
       "      <td>3433</td>\n",
       "      <td>12.0</td>\n",
       "      <td>(69, 73]</td>\n",
       "      <td>usa</td>\n",
       "    </tr>\n",
       "    <tr>\n",
       "      <th>4</th>\n",
       "      <td>17.0</td>\n",
       "      <td>8</td>\n",
       "      <td>302.0</td>\n",
       "      <td>140.0</td>\n",
       "      <td>3449</td>\n",
       "      <td>10.5</td>\n",
       "      <td>(69, 73]</td>\n",
       "      <td>usa</td>\n",
       "    </tr>\n",
       "  </tbody>\n",
       "</table>\n",
       "</div>"
      ],
      "text/plain": [
       "    mpg  cylinders  displacement  horsepower  weight  acceleration model_year  \\\n",
       "0  18.0          8         307.0       130.0    3504          12.0   (69, 73]   \n",
       "1  15.0          8         350.0       165.0    3693          11.5   (69, 73]   \n",
       "2  18.0          8         318.0       150.0    3436          11.0   (69, 73]   \n",
       "3  16.0          8         304.0       150.0    3433          12.0   (69, 73]   \n",
       "4  17.0          8         302.0       140.0    3449          10.5   (69, 73]   \n",
       "\n",
       "  origin  \n",
       "0    usa  \n",
       "1    usa  \n",
       "2    usa  \n",
       "3    usa  \n",
       "4    usa  "
      ]
     },
     "execution_count": 15,
     "metadata": {},
     "output_type": "execute_result"
    }
   ],
   "source": [
    "bins = pd.IntervalIndex.from_tuples([(69, 73), (74, 77), (78, 82)])\n",
    "df[\"model_year\"] = pd.cut(df[\"model_year\"], bins = bins)\n",
    "df.head()"
   ]
  },
  {
   "cell_type": "code",
   "execution_count": 16,
   "metadata": {},
   "outputs": [
    {
     "data": {
      "text/html": [
       "<div>\n",
       "<style scoped>\n",
       "    .dataframe tbody tr th:only-of-type {\n",
       "        vertical-align: middle;\n",
       "    }\n",
       "\n",
       "    .dataframe tbody tr th {\n",
       "        vertical-align: top;\n",
       "    }\n",
       "\n",
       "    .dataframe thead th {\n",
       "        text-align: right;\n",
       "    }\n",
       "</style>\n",
       "<table border=\"1\" class=\"dataframe\">\n",
       "  <thead>\n",
       "    <tr style=\"text-align: right;\">\n",
       "      <th></th>\n",
       "      <th>mpg</th>\n",
       "      <th>cylinders</th>\n",
       "      <th>displacement</th>\n",
       "      <th>horsepower</th>\n",
       "      <th>weight</th>\n",
       "      <th>acceleration</th>\n",
       "      <th>model_year_(74, 77]</th>\n",
       "      <th>model_year_(78, 82]</th>\n",
       "      <th>origin_japan</th>\n",
       "      <th>origin_usa</th>\n",
       "    </tr>\n",
       "  </thead>\n",
       "  <tbody>\n",
       "    <tr>\n",
       "      <th>0</th>\n",
       "      <td>18.0</td>\n",
       "      <td>8</td>\n",
       "      <td>307.0</td>\n",
       "      <td>130.0</td>\n",
       "      <td>3504</td>\n",
       "      <td>12.0</td>\n",
       "      <td>0</td>\n",
       "      <td>0</td>\n",
       "      <td>0</td>\n",
       "      <td>1</td>\n",
       "    </tr>\n",
       "    <tr>\n",
       "      <th>1</th>\n",
       "      <td>15.0</td>\n",
       "      <td>8</td>\n",
       "      <td>350.0</td>\n",
       "      <td>165.0</td>\n",
       "      <td>3693</td>\n",
       "      <td>11.5</td>\n",
       "      <td>0</td>\n",
       "      <td>0</td>\n",
       "      <td>0</td>\n",
       "      <td>1</td>\n",
       "    </tr>\n",
       "    <tr>\n",
       "      <th>2</th>\n",
       "      <td>18.0</td>\n",
       "      <td>8</td>\n",
       "      <td>318.0</td>\n",
       "      <td>150.0</td>\n",
       "      <td>3436</td>\n",
       "      <td>11.0</td>\n",
       "      <td>0</td>\n",
       "      <td>0</td>\n",
       "      <td>0</td>\n",
       "      <td>1</td>\n",
       "    </tr>\n",
       "    <tr>\n",
       "      <th>3</th>\n",
       "      <td>16.0</td>\n",
       "      <td>8</td>\n",
       "      <td>304.0</td>\n",
       "      <td>150.0</td>\n",
       "      <td>3433</td>\n",
       "      <td>12.0</td>\n",
       "      <td>0</td>\n",
       "      <td>0</td>\n",
       "      <td>0</td>\n",
       "      <td>1</td>\n",
       "    </tr>\n",
       "    <tr>\n",
       "      <th>4</th>\n",
       "      <td>17.0</td>\n",
       "      <td>8</td>\n",
       "      <td>302.0</td>\n",
       "      <td>140.0</td>\n",
       "      <td>3449</td>\n",
       "      <td>10.5</td>\n",
       "      <td>0</td>\n",
       "      <td>0</td>\n",
       "      <td>0</td>\n",
       "      <td>1</td>\n",
       "    </tr>\n",
       "  </tbody>\n",
       "</table>\n",
       "</div>"
      ],
      "text/plain": [
       "    mpg  cylinders  displacement  horsepower  weight  acceleration  \\\n",
       "0  18.0          8         307.0       130.0    3504          12.0   \n",
       "1  15.0          8         350.0       165.0    3693          11.5   \n",
       "2  18.0          8         318.0       150.0    3436          11.0   \n",
       "3  16.0          8         304.0       150.0    3433          12.0   \n",
       "4  17.0          8         302.0       140.0    3449          10.5   \n",
       "\n",
       "   model_year_(74, 77]  model_year_(78, 82]  origin_japan  origin_usa  \n",
       "0                    0                    0             0           1  \n",
       "1                    0                    0             0           1  \n",
       "2                    0                    0             0           1  \n",
       "3                    0                    0             0           1  \n",
       "4                    0                    0             0           1  "
      ]
     },
     "execution_count": 16,
     "metadata": {},
     "output_type": "execute_result"
    }
   ],
   "source": [
    "df = pd.get_dummies(df, columns=[\"model_year\", \"origin\"], drop_first=True)\n",
    "df.head()"
   ]
  },
  {
   "cell_type": "markdown",
   "metadata": {},
   "source": [
    "### Train|test-split"
   ]
  },
  {
   "cell_type": "code",
   "execution_count": 17,
   "metadata": {},
   "outputs": [
    {
     "data": {
      "text/plain": [
       "((274, 9), (118, 9))"
      ]
     },
     "execution_count": 17,
     "metadata": {},
     "output_type": "execute_result"
    }
   ],
   "source": [
    "from sklearn.model_selection import train_test_split\n",
    "from sklearn.preprocessing import StandardScaler\n",
    "\n",
    "X, y = df.drop(\"mpg\", axis = 1).values, df[\"mpg\"].values #Picks out the values so we get a numpy array (since tensorflow and kesars does not use dataframe)\n",
    "\n",
    "X_train, X_test, y_train, y_test = train_test_split(X, y, test_size=0.3, random_state=42)\n",
    "scaler = StandardScaler()\n",
    "\n",
    "scaled_X_train = scaler.fit_transform(X_train)\n",
    "scaled_X_test = scaler.transform(X_test)\n",
    "\n",
    "scaled_X_train.shape, scaled_X_test.shape"
   ]
  },
  {
   "cell_type": "markdown",
   "metadata": {},
   "source": [
    "### Multiple linear regression"
   ]
  },
  {
   "cell_type": "code",
   "execution_count": 18,
   "metadata": {},
   "outputs": [
    {
     "data": {
      "text/plain": [
       "(23.637591240875913,\n",
       " array([-0.07963534,  0.71698622, -1.5802261 , -4.49219087, -0.08849455,\n",
       "         0.36793355,  2.76523073,  0.02957218, -1.25074873]))"
      ]
     },
     "execution_count": 18,
     "metadata": {},
     "output_type": "execute_result"
    }
   ],
   "source": [
    "from sklearn.linear_model import LinearRegression\n",
    "\n",
    "model_lin_reg = LinearRegression()\n",
    "model_lin_reg.fit(scaled_X_train, y_train)\n",
    "\n",
    "intercept, coefficients = model_lin_reg.intercept_, model_lin_reg.coef_\n",
    "\n",
    "intercept, coefficients"
   ]
  },
  {
   "cell_type": "markdown",
   "metadata": {},
   "source": [
    "### Artificial Neural Network (ANN)\n",
    "\n",
    "- shallow MLP"
   ]
  },
  {
   "cell_type": "code",
   "execution_count": 20,
   "metadata": {},
   "outputs": [
    {
     "name": "stdout",
     "output_type": "stream",
     "text": [
      "Model: \"Shallow_network\"\n",
      "_________________________________________________________________\n",
      " Layer (type)                Output Shape              Param #   \n",
      "=================================================================\n",
      " Output_layer (Dense)        (None, 1)                 10        \n",
      "                                                                 \n",
      "=================================================================\n",
      "Total params: 10\n",
      "Trainable params: 10\n",
      "Non-trainable params: 0\n",
      "_________________________________________________________________\n"
     ]
    },
    {
     "name": "stderr",
     "output_type": "stream",
     "text": [
      "2022-04-19 11:26:52.224454: I tensorflow/core/platform/cpu_feature_guard.cc:151] This TensorFlow binary is optimized with oneAPI Deep Neural Network Library (oneDNN) to use the following CPU instructions in performance-critical operations:  AVX2 FMA\n",
      "To enable them in other operations, rebuild TensorFlow with the appropriate compiler flags.\n"
     ]
    }
   ],
   "source": [
    "from tensorflow.keras import Sequential\n",
    "from tensorflow.keras.layers import Dense, InputLayer\n",
    "from tensorflow.keras.optimizers import SGD\n",
    "\n",
    "model_shallow = Sequential(name = \"Shallow_network\") #Here we add the input layer\n",
    "model_shallow.add(InputLayer(X_train.shape[1])) #We specify the number of features\n",
    "model_shallow.add(Dense(1, name = \"Output_layer\")) #Note no activation function --> linear activation\n",
    "#model_shallow.add(Dense(20, name=\"Hidden_layer\")) If we want to create hidden layers\n",
    "model_shallow.compile(loss = \"mean_squared_error\", optimizer = SGD(learning_rate=.01))\n",
    "model_shallow.summary()"
   ]
  },
  {
   "cell_type": "code",
   "execution_count": 21,
   "metadata": {},
   "outputs": [
    {
     "name": "stdout",
     "output_type": "stream",
     "text": [
      "Epoch 1/50\n",
      "9/9 [==============================] - 1s 29ms/step - loss: 526.1484 - val_loss: 380.2231\n",
      "Epoch 2/50\n",
      "9/9 [==============================] - 0s 10ms/step - loss: 357.1112 - val_loss: 256.0151\n",
      "Epoch 3/50\n",
      "9/9 [==============================] - 0s 8ms/step - loss: 248.9697 - val_loss: 176.3410\n",
      "Epoch 4/50\n",
      "9/9 [==============================] - 0s 7ms/step - loss: 177.0468 - val_loss: 123.1544\n",
      "Epoch 5/50\n",
      "9/9 [==============================] - 0s 7ms/step - loss: 126.6593 - val_loss: 86.4428\n",
      "Epoch 6/50\n",
      "9/9 [==============================] - 0s 8ms/step - loss: 92.1680 - val_loss: 61.3021\n",
      "Epoch 7/50\n",
      "9/9 [==============================] - 0s 7ms/step - loss: 68.0387 - val_loss: 44.1370\n",
      "Epoch 8/50\n",
      "9/9 [==============================] - 0s 7ms/step - loss: 50.9513 - val_loss: 32.5651\n",
      "Epoch 9/50\n",
      "9/9 [==============================] - 0s 8ms/step - loss: 39.3815 - val_loss: 24.5845\n",
      "Epoch 10/50\n",
      "9/9 [==============================] - 0s 8ms/step - loss: 31.0425 - val_loss: 19.2800\n",
      "Epoch 11/50\n",
      "9/9 [==============================] - 0s 7ms/step - loss: 25.2779 - val_loss: 15.7773\n",
      "Epoch 12/50\n",
      "9/9 [==============================] - 0s 8ms/step - loss: 21.4209 - val_loss: 13.6127\n",
      "Epoch 13/50\n",
      "9/9 [==============================] - 0s 7ms/step - loss: 18.5839 - val_loss: 12.1444\n",
      "Epoch 14/50\n",
      "9/9 [==============================] - 0s 7ms/step - loss: 16.5429 - val_loss: 11.1062\n",
      "Epoch 15/50\n",
      "9/9 [==============================] - 0s 7ms/step - loss: 15.2142 - val_loss: 10.4692\n",
      "Epoch 16/50\n",
      "9/9 [==============================] - 0s 7ms/step - loss: 14.2302 - val_loss: 10.0810\n",
      "Epoch 17/50\n",
      "9/9 [==============================] - 0s 6ms/step - loss: 13.5396 - val_loss: 9.7605\n",
      "Epoch 18/50\n",
      "9/9 [==============================] - 0s 16ms/step - loss: 13.0829 - val_loss: 9.7047\n",
      "Epoch 19/50\n",
      "9/9 [==============================] - 0s 14ms/step - loss: 12.7031 - val_loss: 9.6377\n",
      "Epoch 20/50\n",
      "9/9 [==============================] - 0s 15ms/step - loss: 12.4298 - val_loss: 9.7136\n",
      "Epoch 21/50\n",
      "9/9 [==============================] - 0s 7ms/step - loss: 12.2578 - val_loss: 9.6820\n",
      "Epoch 22/50\n",
      "9/9 [==============================] - 0s 6ms/step - loss: 12.1146 - val_loss: 9.6885\n",
      "Epoch 23/50\n",
      "9/9 [==============================] - 0s 7ms/step - loss: 12.0638 - val_loss: 10.0352\n",
      "Epoch 24/50\n",
      "9/9 [==============================] - 0s 7ms/step - loss: 11.9711 - val_loss: 9.9925\n",
      "Epoch 25/50\n",
      "9/9 [==============================] - 0s 7ms/step - loss: 11.8977 - val_loss: 9.9535\n",
      "Epoch 26/50\n",
      "9/9 [==============================] - 0s 6ms/step - loss: 11.8552 - val_loss: 9.9306\n",
      "Epoch 27/50\n",
      "9/9 [==============================] - 0s 7ms/step - loss: 11.7565 - val_loss: 9.9389\n",
      "Epoch 28/50\n",
      "9/9 [==============================] - 0s 7ms/step - loss: 11.7330 - val_loss: 10.0873\n",
      "Epoch 29/50\n",
      "9/9 [==============================] - 0s 7ms/step - loss: 11.7038 - val_loss: 10.0061\n",
      "Epoch 30/50\n",
      "9/9 [==============================] - 0s 6ms/step - loss: 11.7086 - val_loss: 10.1976\n",
      "Epoch 31/50\n",
      "9/9 [==============================] - 0s 6ms/step - loss: 11.6829 - val_loss: 10.0899\n",
      "Epoch 32/50\n",
      "9/9 [==============================] - 0s 6ms/step - loss: 11.6539 - val_loss: 10.1470\n",
      "Epoch 33/50\n",
      "9/9 [==============================] - 0s 7ms/step - loss: 11.6533 - val_loss: 10.3629\n",
      "Epoch 34/50\n",
      "9/9 [==============================] - 0s 7ms/step - loss: 11.6266 - val_loss: 10.1143\n",
      "Epoch 35/50\n",
      "9/9 [==============================] - 0s 7ms/step - loss: 11.6443 - val_loss: 10.3118\n",
      "Epoch 36/50\n",
      "9/9 [==============================] - 0s 6ms/step - loss: 11.5923 - val_loss: 10.2791\n",
      "Epoch 37/50\n",
      "9/9 [==============================] - 0s 6ms/step - loss: 11.5691 - val_loss: 10.1066\n",
      "Epoch 38/50\n",
      "9/9 [==============================] - 0s 7ms/step - loss: 11.5211 - val_loss: 10.2603\n",
      "Epoch 39/50\n",
      "9/9 [==============================] - 0s 7ms/step - loss: 11.5517 - val_loss: 10.1161\n",
      "Epoch 40/50\n",
      "9/9 [==============================] - 0s 7ms/step - loss: 11.5419 - val_loss: 10.0420\n",
      "Epoch 41/50\n",
      "9/9 [==============================] - 0s 6ms/step - loss: 11.4943 - val_loss: 9.8206\n",
      "Epoch 42/50\n",
      "9/9 [==============================] - 0s 6ms/step - loss: 11.5130 - val_loss: 9.8368\n",
      "Epoch 43/50\n",
      "9/9 [==============================] - 0s 7ms/step - loss: 11.5000 - val_loss: 9.9739\n",
      "Epoch 44/50\n",
      "9/9 [==============================] - 0s 7ms/step - loss: 11.5166 - val_loss: 9.9184\n",
      "Epoch 45/50\n",
      "9/9 [==============================] - 0s 7ms/step - loss: 11.4540 - val_loss: 10.2183\n",
      "Epoch 46/50\n",
      "9/9 [==============================] - 0s 9ms/step - loss: 11.4428 - val_loss: 10.2507\n",
      "Epoch 47/50\n",
      "9/9 [==============================] - 0s 6ms/step - loss: 11.4381 - val_loss: 10.3906\n",
      "Epoch 48/50\n",
      "9/9 [==============================] - 0s 6ms/step - loss: 11.4353 - val_loss: 10.3312\n",
      "Epoch 49/50\n",
      "9/9 [==============================] - 0s 6ms/step - loss: 11.4033 - val_loss: 10.3130\n",
      "Epoch 50/50\n",
      "9/9 [==============================] - 0s 8ms/step - loss: 11.4105 - val_loss: 10.1396\n"
     ]
    },
    {
     "data": {
      "text/plain": [
       "<keras.callbacks.History at 0x150021100>"
      ]
     },
     "execution_count": 21,
     "metadata": {},
     "output_type": "execute_result"
    }
   ],
   "source": [
    "model_shallow.fit(scaled_X_train, y_train, epochs = 50, verbose = 1, validation_data=(scaled_X_test, y_test)) #If we were to hyperparameter tune we should also split into validation data"
   ]
  },
  {
   "cell_type": "code",
   "execution_count": 23,
   "metadata": {},
   "outputs": [
    {
     "data": {
      "text/html": [
       "<div>\n",
       "<style scoped>\n",
       "    .dataframe tbody tr th:only-of-type {\n",
       "        vertical-align: middle;\n",
       "    }\n",
       "\n",
       "    .dataframe tbody tr th {\n",
       "        vertical-align: top;\n",
       "    }\n",
       "\n",
       "    .dataframe thead th {\n",
       "        text-align: right;\n",
       "    }\n",
       "</style>\n",
       "<table border=\"1\" class=\"dataframe\">\n",
       "  <thead>\n",
       "    <tr style=\"text-align: right;\">\n",
       "      <th></th>\n",
       "      <th>loss</th>\n",
       "      <th>val_loss</th>\n",
       "    </tr>\n",
       "  </thead>\n",
       "  <tbody>\n",
       "    <tr>\n",
       "      <th>0</th>\n",
       "      <td>526.148376</td>\n",
       "      <td>380.223114</td>\n",
       "    </tr>\n",
       "    <tr>\n",
       "      <th>1</th>\n",
       "      <td>357.111176</td>\n",
       "      <td>256.015076</td>\n",
       "    </tr>\n",
       "    <tr>\n",
       "      <th>2</th>\n",
       "      <td>248.969742</td>\n",
       "      <td>176.341003</td>\n",
       "    </tr>\n",
       "    <tr>\n",
       "      <th>3</th>\n",
       "      <td>177.046783</td>\n",
       "      <td>123.154434</td>\n",
       "    </tr>\n",
       "    <tr>\n",
       "      <th>4</th>\n",
       "      <td>126.659340</td>\n",
       "      <td>86.442795</td>\n",
       "    </tr>\n",
       "  </tbody>\n",
       "</table>\n",
       "</div>"
      ],
      "text/plain": [
       "         loss    val_loss\n",
       "0  526.148376  380.223114\n",
       "1  357.111176  256.015076\n",
       "2  248.969742  176.341003\n",
       "3  177.046783  123.154434\n",
       "4  126.659340   86.442795"
      ]
     },
     "execution_count": 23,
     "metadata": {},
     "output_type": "execute_result"
    }
   ],
   "source": [
    "df_loss = pd.DataFrame(model_shallow.history.history) # A dictionary of loss and validation loss\n",
    "df_loss.head()"
   ]
  },
  {
   "cell_type": "code",
   "execution_count": 25,
   "metadata": {},
   "outputs": [
    {
     "data": {
      "text/html": [
       "<div>\n",
       "<style scoped>\n",
       "    .dataframe tbody tr th:only-of-type {\n",
       "        vertical-align: middle;\n",
       "    }\n",
       "\n",
       "    .dataframe tbody tr th {\n",
       "        vertical-align: top;\n",
       "    }\n",
       "\n",
       "    .dataframe thead th {\n",
       "        text-align: right;\n",
       "    }\n",
       "</style>\n",
       "<table border=\"1\" class=\"dataframe\">\n",
       "  <thead>\n",
       "    <tr style=\"text-align: right;\">\n",
       "      <th></th>\n",
       "      <th>loss</th>\n",
       "      <th>val_loss</th>\n",
       "    </tr>\n",
       "  </thead>\n",
       "  <tbody>\n",
       "    <tr>\n",
       "      <th>1</th>\n",
       "      <td>526.148376</td>\n",
       "      <td>380.223114</td>\n",
       "    </tr>\n",
       "    <tr>\n",
       "      <th>2</th>\n",
       "      <td>357.111176</td>\n",
       "      <td>256.015076</td>\n",
       "    </tr>\n",
       "    <tr>\n",
       "      <th>3</th>\n",
       "      <td>248.969742</td>\n",
       "      <td>176.341003</td>\n",
       "    </tr>\n",
       "    <tr>\n",
       "      <th>4</th>\n",
       "      <td>177.046783</td>\n",
       "      <td>123.154434</td>\n",
       "    </tr>\n",
       "    <tr>\n",
       "      <th>5</th>\n",
       "      <td>126.659340</td>\n",
       "      <td>86.442795</td>\n",
       "    </tr>\n",
       "  </tbody>\n",
       "</table>\n",
       "</div>"
      ],
      "text/plain": [
       "         loss    val_loss\n",
       "1  526.148376  380.223114\n",
       "2  357.111176  256.015076\n",
       "3  248.969742  176.341003\n",
       "4  177.046783  123.154434\n",
       "5  126.659340   86.442795"
      ]
     },
     "execution_count": 25,
     "metadata": {},
     "output_type": "execute_result"
    }
   ],
   "source": [
    "df_loss.index = range(1, len(df_loss)+1) #Change the index so that 1 is the first epoch\n",
    "df_loss.head()"
   ]
  },
  {
   "cell_type": "code",
   "execution_count": 28,
   "metadata": {},
   "outputs": [
    {
     "data": {
      "text/plain": [
       "<AxesSubplot:xlabel='Epochs', ylabel='MSE loss'>"
      ]
     },
     "execution_count": 28,
     "metadata": {},
     "output_type": "execute_result"
    },
    {
     "data": {
      "image/png": "[encoded data removed]",
      "text/plain": [
       "<Figure size 432x288 with 1 Axes>"
      ]
     },
     "metadata": {
      "needs_background": "light"
     },
     "output_type": "display_data"
    }
   ],
   "source": [
    "df_loss.plot(xlabel=\"Epochs\", ylabel=\"MSE loss\")"
   ]
  },
  {
   "cell_type": "code",
   "execution_count": 30,
   "metadata": {},
   "outputs": [
    {
     "name": "stdout",
     "output_type": "stream",
     "text": [
      "Linear reg: intercept=23.637591240875913, coefficients=array([-0.07963534,  0.71698622, -1.5802261 , -4.49219087, -0.08849455,\n",
      "        0.36793355,  2.76523073,  0.02957218, -1.25074873])\n",
      "ANN bias=array([23.66216], dtype=float32), weights=array([[-0.68277186],\n",
      "       [-0.2778261 ],\n",
      "       [-1.9199394 ],\n",
      "       [-2.845268  ],\n",
      "       [-0.41614914],\n",
      "       [ 0.212666  ],\n",
      "       [ 2.6027896 ],\n",
      "       [ 0.20080456],\n",
      "       [-1.0105035 ]], dtype=float32)\n"
     ]
    }
   ],
   "source": [
    "weights, bias = model_shallow.layers[0].get_weights()\n",
    "\n",
    "print(f\"Linear reg: {intercept=}, {coefficients=}\")\n",
    "print(f\"ANN {bias=}, {weights=}\")\n",
    "\n",
    "# We get similar values as for linear regression, because we have created a linear network"
   ]
  },
  {
   "cell_type": "markdown",
   "metadata": {},
   "source": [
    "### Prediction and evaluation"
   ]
  },
  {
   "cell_type": "code",
   "execution_count": 32,
   "metadata": {},
   "outputs": [
    {
     "name": "stdout",
     "output_type": "stream",
     "text": [
      "MAE, RMSE for ANN:\n",
      "2.525539942919197 3.1842735915541605\n",
      "MAE, RMSE for linear regression:\n",
      "2.522333542823752 3.1212202349360942\n"
     ]
    }
   ],
   "source": [
    "from sklearn.metrics import mean_absolute_error, mean_squared_error\n",
    "\n",
    "y_pred_ANN = model_shallow.predict(scaled_X_test)\n",
    "y_pred_lin_reg = model_lin_reg.predict(scaled_X_test)\n",
    "\n",
    "print(\"MAE, RMSE for ANN:\")\n",
    "print(mean_absolute_error(y_test, y_pred_ANN), np.sqrt(mean_squared_error(y_test, y_pred_ANN)))\n",
    "\n",
    "print(\"MAE, RMSE for linear regression:\")\n",
    "print(mean_absolute_error(y_test, y_pred_lin_reg), np.sqrt(mean_squared_error(y_test, y_pred_lin_reg)))"
   ]
  }
 ],
 "metadata": {
  "interpreter": {
   "hash": "c8622f42dd2024023add1dc3af682913d650e689fa358b3965b6044288c201ea"
  },
  "kernelspec": {
   "display_name": "Python 3.9.10 ('Deep-Learning-Anna-MariaSjolund-0DMhVJHL')",
   "language": "python",
   "name": "python3"
  },
  "language_info": {
   "codemirror_mode": {
    "name": "ipython",
    "version": 3
   },
   "file_extension": ".py",
   "mimetype": "text/x-python",
   "name": "python",
   "nbconvert_exporter": "python",
   "pygments_lexer": "ipython3",
   "version": "3.9.10"
  },
  "orig_nbformat": 4
 },
 "nbformat": 4,
 "nbformat_minor": 2
}
